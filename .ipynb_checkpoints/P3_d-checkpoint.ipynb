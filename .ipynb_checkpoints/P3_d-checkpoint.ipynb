{
 "cells": [
  {
   "cell_type": "code",
   "execution_count": 1,
   "metadata": {},
   "outputs": [],
   "source": [
    "import numpy as np\n",
    "import matplotlib.pyplot as plt\n",
    "from scipy.linalg import expm\n",
    "import functools as ft\n",
    "import random\n",
    "from qiskit import QuantumCircuit,QuantumRegister,ClassicalRegister,transpile,assemble\n",
    "from qiskit.quantum_info import random_unitary, partial_trace, Statevector\n",
    "from qiskit.quantum_info.operators import Operator, Pauli\n",
    "from qiskit.circuit.library import UnitaryGate\n",
    "from qiskit_algorithms import AmplificationProblem,Grover\n",
    "from qiskit.primitives import Sampler\n",
    "from qiskit.visualization import array_to_latex\n",
    "from qiskit_aer import Aer\n",
    "#from fable import fable\n",
    "from fable.fable import fable\n",
    "sim = Aer.get_backend('aer_simulator',device='GPU')\n",
    "from functions_QQ import *"
   ]
  },
  {
   "cell_type": "markdown",
   "metadata": {},
   "source": [
    "# Functions to generate haar state and hamiltonian"
   ]
  },
  {
   "cell_type": "code",
   "execution_count": 2,
   "metadata": {},
   "outputs": [
    {
     "data": {
      "text/latex": [
       "$$\n",
       "\n",
       "\\begin{bmatrix}\n",
       "-10 & -1 & -1 & \\frac{3}{4} & \\cdots & 0 & 0 & 0  \\\\\n",
       " -1 & -6 & - \\frac{7}{4} & -1 & \\cdots & 0 & 0 & 0  \\\\\n",
       " -1 & - \\frac{7}{4} & -2 & -1 & \\cdots & 0 & 0 & 0  \\\\\n",
       " \\frac{3}{4} & -1 & -1 & -6 & \\cdots & 0 & 0 & 0  \\\\\n",
       " \\vdots & \\vdots & \\vdots & \\vdots & \\ddots & \\vdots & \\vdots & \\vdots \\\\\n",
       " 0 & 0 & 0 & 0 & \\cdots & -2 & - \\frac{7}{4} & -1  \\\\\n",
       " 0 & 0 & 0 & 0 & \\cdots & - \\frac{7}{4} & -6 & -1  \\\\\n",
       " 0 & 0 & 0 & 0 & \\cdots & -1 & -1 & -10  \\\\\n",
       " \\end{bmatrix}\n",
       "$$"
      ],
      "text/plain": [
       "<IPython.core.display.Latex object>"
      ]
     },
     "execution_count": 2,
     "metadata": {},
     "output_type": "execute_result"
    }
   ],
   "source": [
    "#constants\n",
    "N = 6\n",
    "d = 4\n",
    "h = 1.0\n",
    "jx = 0.5\n",
    "jy = 1.25\n",
    "jz = 2.0\n",
    "# Example usage:\n",
    "h = 1.0\n",
    "jx = 0.5\n",
    "jy = 1.25\n",
    "jz = 2.0\n",
    "H_heisenberg = transverse_field_heisenberg(N, h, jx, jy, jz)\n",
    "array_to_latex(H_heisenberg)"
   ]
  },
  {
   "cell_type": "code",
   "execution_count": 3,
   "metadata": {},
   "outputs": [
    {
     "name": "stderr",
     "output_type": "stream",
     "text": [
      "Exception ignored in: <bound method IPythonKernel._clean_thread_parent_frames of <ipykernel.ipkernel.IPythonKernel object at 0x7f48de901950>>\n",
      "Traceback (most recent call last):\n",
      "  File \"/home/dacc/anaconda3/lib/python3.11/site-packages/ipykernel/ipkernel.py\", line 770, in _clean_thread_parent_frames\n",
      "    def _clean_thread_parent_frames(\n",
      "\n",
      "KeyboardInterrupt: \n",
      "\n",
      "KeyboardInterrupt\n",
      "\n"
     ]
    }
   ],
   "source": [
    "energy_vector = []\n",
    "for beta in np.arange(0.0, 1.6, 0.05):\n",
    "    exp_value = 0.0\n",
    "    for i in range(100):\n",
    "        Q = expm(-beta*H_heisenberg/2.0)\n",
    "        entropy, circ, state = quantum_haar_state(N, d)\n",
    "        tpq  = np.matmul(Q, state)\n",
    "        exp_value += (np.inner(tpq.conj().T, np.matmul(H_heisenberg, tpq))/np.inner(tpq.conj().T, tpq)).real\n",
    "    exp_value /= 100\n",
    "    energy_vector.append(exp_value)\n",
    "array_to_latex(energy_vector)"
   ]
  },
  {
   "cell_type": "code",
   "execution_count": null,
   "metadata": {},
   "outputs": [],
   "source": [
    "fig, ax = plt.subplots()\n",
    "# Plot the first array\n",
    "ax.scatter(np.arange(0.0, 1.6, 0.05), energy_vector, color='blue')\n",
    "ax.plot(np.arange(0.0, 1.6, 0.05), energy_vector, label='Thermal Energy', color='blue')\n",
    "# Add labels and legend\n",
    "ax.set_xlabel('Inverse Temperature')\n",
    "ax.set_ylabel('Energy')\n",
    "ax.legend()\n",
    "\n",
    "# Show the plot\n",
    "plt.grid()\n",
    "plt.show()"
   ]
  },
  {
   "cell_type": "markdown",
   "metadata": {},
   "source": [
    "# Circuit"
   ]
  },
  {
   "cell_type": "code",
   "execution_count": null,
   "metadata": {},
   "outputs": [],
   "source": [
    "entropy, circuit, state_vector= quantum_haar_state(N, d)\n",
    "circuit.draw('mpl')"
   ]
  },
  {
   "cell_type": "code",
   "execution_count": null,
   "metadata": {},
   "outputs": [],
   "source": [
    "circuit.add_register(QuantumRegister(N+1))\n",
    "circuit.draw('mpl')"
   ]
  },
  {
   "cell_type": "markdown",
   "metadata": {},
   "source": [
    "# Data example:"
   ]
  },
  {
   "cell_type": "code",
   "execution_count": null,
   "metadata": {},
   "outputs": [],
   "source": [
    "beta = 0.5\n",
    "Q = expm(-beta*H_heisenberg/2.0)\n",
    "circ_f, alpha = fable(Q, 0)\n",
    "circuit.add_register(ClassicalRegister(N+1))\n",
    "circuit.barrier()\n",
    "circuit.compose(circ_f, qubits=range(2*N + 1), inplace=True)\n",
    "circuit.barrier()\n",
    "circuit.measure(range(N, 2*N+1), range(N+1))\n",
    "circuit.save_statevector(label = 'test', pershot = True)\n",
    "backend = Aer.get_backend(\"statevector_simulator\")\n",
    "#result = execute(circuit, backend = backend, shots = 100).result()\n",
    "new_circuit = transpile(circuit, backend=backend)\n",
    "result = backend.run(new_circuit, shots=100).result()\n",
    "array_to_latex(result.data(0)['test'][0])"
   ]
  },
  {
   "cell_type": "code",
   "execution_count": null,
   "metadata": {},
   "outputs": [],
   "source": [
    "array_to_latex(result.data(0)['test'][42])"
   ]
  },
  {
   "cell_type": "code",
   "execution_count": null,
   "metadata": {},
   "outputs": [],
   "source": [
    "result.data(0)['test'][0].draw(\"Latex\")"
   ]
  },
  {
   "cell_type": "code",
   "execution_count": null,
   "metadata": {},
   "outputs": [],
   "source": [
    "result.data(0)['test'][99].draw(\"Latex\")"
   ]
  },
  {
   "cell_type": "code",
   "execution_count": null,
   "metadata": {},
   "outputs": [],
   "source": [
    "result.data(0)['test'][11].draw(\"Latex\")"
   ]
  },
  {
   "cell_type": "code",
   "execution_count": null,
   "metadata": {},
   "outputs": [],
   "source": [
    "psi_ancillar = partial_trace(result.data(0)['test'][95], range(N))\n",
    "psi_ancillar = np.diagonal(psi_ancillar)\n",
    "psi_ancillar = Statevector(psi_ancillar)\n",
    "psi_ancillar.draw(output=\"Latex\")"
   ]
  },
  {
   "cell_type": "code",
   "execution_count": null,
   "metadata": {},
   "outputs": [],
   "source": [
    "psi_ancillar = partial_trace(result.data(0)['test'][95], range(N))\n",
    "psi_ancillar = np.diagonal(psi_ancillar)\n",
    "array_to_latex(psi_ancillar)"
   ]
  },
  {
   "cell_type": "code",
   "execution_count": null,
   "metadata": {},
   "outputs": [],
   "source": [
    "state = Statevector.from_label('0'*(N+1))\n",
    "array_to_latex(state)"
   ]
  },
  {
   "cell_type": "code",
   "execution_count": null,
   "metadata": {},
   "outputs": [],
   "source": [
    "state = np.asarray(state)\n",
    "array_to_latex(state)"
   ]
  },
  {
   "cell_type": "code",
   "execution_count": null,
   "metadata": {},
   "outputs": [],
   "source": [
    "for i in range(99):\n",
    "    psi_ancillar = partial_trace(result.data(0)['test'][i], range(N))\n",
    "    psi_ancillar = np.diagonal(psi_ancillar)\n",
    "    if psi_ancillar.all == state.all:\n",
    "        print(psi_ancillar.draw(output=\"Latex\"))"
   ]
  },
  {
   "cell_type": "markdown",
   "metadata": {},
   "source": [
    "# Block encoding && amplitude amplification"
   ]
  },
  {
   "cell_type": "code",
   "execution_count": null,
   "metadata": {},
   "outputs": [],
   "source": [
    "good_ancilla = np.asarray(Statevector.from_label('0'*(N+1)))\n",
    "np.shape(np.outer(good_ancilla, good_ancilla.T))"
   ]
  },
  {
   "cell_type": "code",
   "execution_count": null,
   "metadata": {},
   "outputs": [],
   "source": [
    "np.shape(good_ancilla.conj().T)"
   ]
  },
  {
   "cell_type": "code",
   "execution_count": null,
   "metadata": {},
   "outputs": [],
   "source": [
    "Rgood = np.kron((np.identity(2**(N+1))-2*np.outer(good_ancilla, good_ancilla.conj())), np.identity(2**(N)))\n",
    "array_to_latex(Rgood)"
   ]
  },
  {
   "cell_type": "code",
   "execution_count": null,
   "metadata": {},
   "outputs": [],
   "source": [
    "np.shape(Rgood)"
   ]
  },
  {
   "cell_type": "code",
   "execution_count": null,
   "metadata": {},
   "outputs": [],
   "source": [
    "good_state = np.asarray(Statevector.from_label('0'*(2*N+1)))\n",
    "middle = np.outer(good_state, good_state.conj().T)\n",
    "array_to_latex(Rgood)"
   ]
  },
  {
   "cell_type": "code",
   "execution_count": null,
   "metadata": {},
   "outputs": [],
   "source": [
    "R_psi_middle = 2*middle - np.identity(2**(2*N+1))\n",
    "G = QuantumCircuit(2*N + 1)"
   ]
  },
  {
   "cell_type": "code",
   "execution_count": null,
   "metadata": {},
   "outputs": [],
   "source": [
    "Rgood = Operator(Rgood)\n",
    "np.shape(Rgood)"
   ]
  },
  {
   "cell_type": "code",
   "execution_count": null,
   "metadata": {},
   "outputs": [],
   "source": [
    "G.append(Rgood, range(2*N+1))\n",
    "G.draw(\"mpl\")"
   ]
  },
  {
   "cell_type": "code",
   "execution_count": null,
   "metadata": {},
   "outputs": [],
   "source": [
    "G.append(Rgood, range(2*N+1))\n",
    "G.compose(circ_f, range(2*N+1), inplace=True)\n",
    "R_psi_middle = Operator(R_psi_middle)\n",
    "G.append(R_psi_middle, range(2*N+1))\n",
    "G.append(circ_f.inverse(), range(2*N+1))\n",
    "G.draw(\"mpl\")"
   ]
  },
  {
   "cell_type": "code",
   "execution_count": null,
   "metadata": {},
   "outputs": [],
   "source": [
    "entropy, circuit, state_vector= quantum_haar_state(N, d)\n",
    "circuit.add_register(QuantumRegister(N+1))\n",
    "for j in range(6): circuit.compose(G, range(2*N+1), inplace=True)\n",
    "circuit.barrier()\n",
    "circuit.add_register(ClassicalRegister(N+1))\n",
    "circuit.measure(range(N, 2*N+1), range(N+1))\n",
    "circuit.save_statevector(label = 'test', pershot = True)\n",
    "new_circuit = transpile(circuit, backend=backend)\n",
    "result = backend.run(new_circuit).result()\n",
    "array_to_latex(result.data(0)['test'])"
   ]
  },
  {
   "cell_type": "code",
   "execution_count": null,
   "metadata": {},
   "outputs": [],
   "source": []
  },
  {
   "cell_type": "code",
   "execution_count": null,
   "metadata": {},
   "outputs": [],
   "source": []
  }
 ],
 "metadata": {
  "kernelspec": {
   "display_name": "Python 3 (ipykernel)",
   "language": "python",
   "name": "python3"
  },
  "language_info": {
   "codemirror_mode": {
    "name": "ipython",
    "version": 3
   },
   "file_extension": ".py",
   "mimetype": "text/x-python",
   "name": "python",
   "nbconvert_exporter": "python",
   "pygments_lexer": "ipython3",
   "version": "3.11.9"
  }
 },
 "nbformat": 4,
 "nbformat_minor": 4
}
