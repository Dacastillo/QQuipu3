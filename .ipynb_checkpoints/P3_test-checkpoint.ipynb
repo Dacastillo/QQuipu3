{
 "cells": [
  {
   "cell_type": "code",
   "execution_count": 1,
   "id": "996b708c-60b5-486f-bc72-00b3003ad357",
   "metadata": {},
   "outputs": [
    {
     "ename": "ModuleNotFoundError",
     "evalue": "No module named 'functions_QQ'",
     "output_type": "error",
     "traceback": [
      "\u001b[0;31m---------------------------------------------------------------------------\u001b[0m",
      "\u001b[0;31mModuleNotFoundError\u001b[0m                       Traceback (most recent call last)",
      "Cell \u001b[0;32mIn[1], line 17\u001b[0m\n\u001b[1;32m     15\u001b[0m \u001b[38;5;28;01mfrom\u001b[39;00m \u001b[38;5;21;01mfable\u001b[39;00m\u001b[38;5;21;01m.\u001b[39;00m\u001b[38;5;21;01mfable\u001b[39;00m \u001b[38;5;28;01mimport\u001b[39;00m fable\n\u001b[1;32m     16\u001b[0m sim \u001b[38;5;241m=\u001b[39m Aer\u001b[38;5;241m.\u001b[39mget_backend(\u001b[38;5;124m'\u001b[39m\u001b[38;5;124maer_simulator\u001b[39m\u001b[38;5;124m'\u001b[39m,device\u001b[38;5;241m=\u001b[39m\u001b[38;5;124m'\u001b[39m\u001b[38;5;124mGPU\u001b[39m\u001b[38;5;124m'\u001b[39m)\n\u001b[0;32m---> 17\u001b[0m \u001b[38;5;28;01mfrom\u001b[39;00m \u001b[38;5;21;01mfunctions_QQ\u001b[39;00m \u001b[38;5;28;01mimport\u001b[39;00m \u001b[38;5;241m*\u001b[39m\n",
      "\u001b[0;31mModuleNotFoundError\u001b[0m: No module named 'functions_QQ'"
     ]
    }
   ],
   "source": [
    "import numpy as np\n",
    "import matplotlib.pyplot as plt\n",
    "from scipy.linalg import expm\n",
    "import functools as ft\n",
    "import random\n",
    "from qiskit import QuantumCircuit,QuantumRegister,ClassicalRegister,transpile,assemble\n",
    "from qiskit.quantum_info import random_unitary, partial_trace, Statevector\n",
    "from qiskit.quantum_info.operators import Operator, Pauli\n",
    "from qiskit.circuit.library import UnitaryGate\n",
    "from qiskit_algorithms import AmplificationProblem,Grover\n",
    "from qiskit.primitives import Sampler\n",
    "from qiskit.visualization import array_to_latex\n",
    "from qiskit_aer import Aer\n",
    "#from fable import fable\n",
    "from fable.fable import fable\n",
    "sim = Aer.get_backend('aer_simulator',device='GPU')\n",
    "from functions_QQ import *"
   ]
  },
  {
   "cell_type": "code",
   "execution_count": null,
   "id": "21b0a718-5f5d-46a9-80f7-a4d3c7ce2c53",
   "metadata": {},
   "outputs": [],
   "source": [
    "entropy, circuit, state_vector= quantum_haar_state(N, d)\n",
    "circuit.add_register(QuantumRegister(N+1))\n",
    "circuit.draw('mpl')"
   ]
  },
  {
   "cell_type": "code",
   "execution_count": null,
   "id": "4c5b0c19-b07f-47ec-b60e-469691f819c3",
   "metadata": {},
   "outputs": [],
   "source": []
  }
 ],
 "metadata": {
  "kernelspec": {
   "display_name": "Python 3 (ipykernel)",
   "language": "python",
   "name": "python3"
  },
  "language_info": {
   "codemirror_mode": {
    "name": "ipython",
    "version": 3
   },
   "file_extension": ".py",
   "mimetype": "text/x-python",
   "name": "python",
   "nbconvert_exporter": "python",
   "pygments_lexer": "ipython3",
   "version": "3.11.9"
  }
 },
 "nbformat": 4,
 "nbformat_minor": 5
}
