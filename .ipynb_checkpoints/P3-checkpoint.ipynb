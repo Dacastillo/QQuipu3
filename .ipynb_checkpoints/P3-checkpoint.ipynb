{
 "cells": [
  {
   "cell_type": "code",
   "execution_count": 1,
   "id": "833d1999-3f7b-4d87-a75b-e2f3d0aacdcb",
   "metadata": {
    "colab": {
     "base_uri": "https://localhost:8080/"
    },
    "id": "833d1999-3f7b-4d87-a75b-e2f3d0aacdcb",
    "outputId": "e0f91b34-c21c-4d60-e01f-b143ae6d29ae"
   },
   "outputs": [],
   "source": [
    "import numpy as np\n",
    "import matplotlib.pyplot as plt\n",
    "from scipy.linalg import expm\n",
    "import functools as ft\n",
    "import random\n",
    "from qiskit import QuantumCircuit,QuantumRegister,ClassicalRegister,transpile,assemble\n",
    "from qiskit.quantum_info import random_unitary, partial_trace, Statevector\n",
    "from qiskit.quantum_info.operators import Operator, Pauli\n",
    "from qiskit.circuit.library import UnitaryGate\n",
    "from qiskit_algorithms import AmplificationProblem,Grover\n",
    "from qiskit.primitives import Sampler\n",
    "from qiskit.visualization import array_to_latex\n",
    "from qiskit_aer import Aer\n",
    "#from fable import fable\n",
    "from fable.fable import fable\n",
    "#sim = Aer.get_backend('aer_simulator',device='GPU')\n",
    "from functions_QQ import *"
   ]
  },
  {
   "cell_type": "markdown",
   "id": "51f8f096-ff25-4eb2-9a53-cc94dd88a5ce",
   "metadata": {},
   "source": [
    "# Generación de Estados Termales usando Computación Cuántica\n",
    "### Tony Milla, Sebastián Páucar, César Pacheco, Daniel Castillo-Castro\n",
    "### QuantumQuipu, proyecto 3\n",
    "\n",
    "Referencias: \n",
    "\n",
    "Lin, [Lecture Notes on Quantum Algorithms for Scientific Computation](https://arxiv.org/abs/2201.08309)\n",
    "\n",
    "Powers *et al.* [Exploring Finite Temperature Properties of Materials with Quantum Computers](https://arxiv.org/abs/2109.01619)\n",
    "## Algoritmo Clásico\n",
    "* Cálculo analítico usando matrices de los estados de Haar y de la energía de los estados termales. "
   ]
  },
  {
   "cell_type": "code",
   "execution_count": null,
   "id": "077b7720-669c-474e-8cbe-63a754276550",
   "metadata": {
    "scrolled": true
   },
   "outputs": [],
   "source": [
    "#constants\n",
    "N = 4\n",
    "d = 5\n",
    "h = 1.0\n",
    "jx = 0.5\n",
    "jy = 1.25\n",
    "jz = 2.0\n",
    "H_heisenberg = transverse_field_heisenberg(N, h, jx, jy, jz)\n",
    "energy_vector = []\n",
    "for beta in np.arange(0.0, 1.6, 0.05):\n",
    "    exp_value = 0.0\n",
    "    for i in range(100):\n",
    "        Q = expm(-beta*H_heisenberg/2.0)\n",
    "        entropy, circ, state = quantum_haar_state(N, d)\n",
    "        tpq  = np.matmul(Q, state)\n",
    "        exp_value += (np.inner(tpq.conj().T, np.matmul(H_heisenberg, tpq))/np.inner(tpq.conj().T, tpq)).real\n",
    "    exp_value /= 100\n",
    "    energy_vector.append(exp_value)\n",
    "#array_to_latex(energy_vector)"
   ]
  },
  {
   "cell_type": "markdown",
   "id": "aa6c44a2-6e39-400d-94cf-7da1c73c6a37",
   "metadata": {},
   "source": [
    "## Inicialización de Estados de Haar\n",
    "* Testeando para cadenas de 9 espines 1D y 2D\n",
    "* Comparación de entropía para ambos casos. Mejoras respecto a número de repeticiones."
   ]
  },
  {
   "cell_type": "code",
   "execution_count": null,
   "id": "NBdAJ1Ksic10",
   "metadata": {
    "colab": {
     "base_uri": "https://localhost:8080/",
     "height": 474
    },
    "id": "NBdAJ1Ksic10",
    "outputId": "484b15ec-7111-4424-edcc-bf1add2ca6ff"
   },
   "outputs": [],
   "source": [
    "nre=5;num1d=4; hchain1= haar_1d(nre,num1d)\n",
    "nx2d=2; ny2d=2; hchain2=haar_2d(nre,nx2d,ny2d)\n",
    "hhaar=np.log(2**num1d)-1+0.577\n",
    "xchain=np.arange(0,nre+1,1)\n",
    "tresc=np.empty(nre+1); tresc.fill(hhaar)\n",
    "plt.plot(xchain,tresc, '--', color='black',linewidth=2)\n",
    "plt.plot(xchain,hchain1, '-o', color='blue',linewidth=3, label =\"1D\")\n",
    "plt.plot(xchain,hchain2, '-o', color='red',linewidth=3, label=\"2D\")\n",
    "plt.xlabel('Número de iteraciones',fontsize=20)\n",
    "plt.ylabel('Entropía',fontsize=20)\n",
    "plt.xticks(fontsize=16);plt.yticks(fontsize=16)\n",
    "plt.legend(loc='lower right', fontsize=20)\n",
    "plt.xlim([0,nre]);#ylim([0,4])"
   ]
  },
  {
   "cell_type": "markdown",
   "id": "ab05f0b7-d10f-466a-81bf-23d9854c249b",
   "metadata": {},
   "source": [
    "## Circuito del hamiltoniano"
   ]
  },
  {
   "cell_type": "markdown",
   "id": "da85eeea-ce8b-48b8-bf52-5bccdddfbfc7",
   "metadata": {},
   "source": [
    "## Codificación de bloques y amplificación de amplitud \n",
    "* Toma: Número de dimensiones, número de repeticiones, temperatura inversa\n",
    "* Entrega: Vector resultante del circuito\n",
    "## Cálculo de energía para estado térmico\n",
    "* Composición de evolución hamiltoniana\n",
    "* Cálculo de intervalos de estados entre $\\beta=[0,1.6]$"
   ]
  },
  {
   "cell_type": "code",
   "execution_count": null,
   "id": "65bc88cb-485d-4765-847d-f602a8de4232",
   "metadata": {},
   "outputs": [],
   "source": [
    "Ener=[]\n",
    "\n",
    "for beta in np.arange(0.0, 1.6, 0.05):\n",
    "    exp_value = 0.0\n",
    "    for i in range(10):\n",
    "        Q = expm(-beta*H_heisenberg/2.0)\n",
    "        estate = block_encoding_amplification(N,d,H_heisenberg,beta)['statevector']\n",
    "        tpq  = np.matmul(Q, state.data[0:2**N])\n",
    "        exp_value += (np.inner(tpq.conj().T, np.matmul(H_heisenberg, tpq))/np.inner(tpq.conj().T, tpq)).real\n",
    "    exp_value /= 10\n",
    "    Ener.append(exp_value)\n",
    "\n",
    "\n",
    "#for j in range (32):\n",
    "#  beta = (1.6*j)/32\n",
    "#  state= block_encoding_amplification(N,d,H_heisenberg,beta)['statevector']\n",
    "#  Ener.append(np.matmul(dag(state.data[0:2**N]),np.matmul(H_heisenberg,state.data[0:2**N])).real)\n",
    "#print(Ener)"
   ]
  },
  {
   "cell_type": "code",
   "execution_count": null,
   "id": "ccd7b525-89c1-4f9b-9c7e-0dbba87f24d3",
   "metadata": {},
   "outputs": [],
   "source": [
    "fig, ax = plt.subplots()\n",
    "ax.scatter(np.arange(0.0, 1.6, 0.05), energy_vector, color='blue')\n",
    "ax.plot(np.arange(0.0, 1.6, 0.05), energy_vector, label='Classical method', color='blue')\n",
    "#ax.scatter(np.linspace(0.0, 1.6, 32), np.array(Ener), color='red')\n",
    "#ax.plot(np.linspace(0.0, 1.6, 32), np.array(Ener), label='Quantum method', color='red')\n",
    "ax.scatter(np.arange(0.0, 1.6, 0.05), Ener, color='red')\n",
    "ax.plot(np.arange(0.0, 1.6, 0.05), Ener, label='Quantum method', color='red')\n",
    "# Add labels and legend\n",
    "ax.set_xlabel('Inverse Temperature')\n",
    "ax.set_ylabel('Energy')\n",
    "ax.legend()\n",
    "plt.grid()\n",
    "plt.show()"
   ]
  },
  {
   "cell_type": "code",
   "execution_count": null,
   "id": "048763cd-bab0-4fd8-8244-f9ccb760d898",
   "metadata": {},
   "outputs": [],
   "source": []
  },
  {
   "cell_type": "code",
   "execution_count": null,
   "id": "4a392cbd-8a9b-4e72-8c34-4a17553e91ff",
   "metadata": {},
   "outputs": [],
   "source": []
  }
 ],
 "metadata": {
  "colab": {
   "provenance": []
  },
  "kernelspec": {
   "display_name": "Python 3 (ipykernel)",
   "language": "python",
   "name": "python3"
  },
  "language_info": {
   "codemirror_mode": {
    "name": "ipython",
    "version": 3
   },
   "file_extension": ".py",
   "mimetype": "text/x-python",
   "name": "python",
   "nbconvert_exporter": "python",
   "pygments_lexer": "ipython3",
   "version": "3.11.9"
  }
 },
 "nbformat": 4,
 "nbformat_minor": 5
}
