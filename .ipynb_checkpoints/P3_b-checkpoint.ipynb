{
 "cells": [
  {
   "cell_type": "code",
   "execution_count": 1,
   "metadata": {},
   "outputs": [],
   "source": [
    "import numpy as np\n",
    "import matplotlib.pyplot as plt\n",
    "from scipy.linalg import expm\n",
    "import functools as ft\n",
    "import random\n",
    "from qiskit import QuantumCircuit,QuantumRegister,ClassicalRegister,transpile,assemble\n",
    "from qiskit.quantum_info import random_unitary, partial_trace, Statevector\n",
    "from qiskit.quantum_info.operators import Operator, Pauli\n",
    "from qiskit.circuit.library import UnitaryGate\n",
    "from qiskit_algorithms import AmplificationProblem,Grover\n",
    "from qiskit.primitives import Sampler\n",
    "from qiskit.visualization import array_to_latex\n",
    "from qiskit_aer import Aer\n",
    "#from fable import fable\n",
    "from fable.fable import fable\n",
    "sim = Aer.get_backend('aer_simulator',device='GPU')\n",
    "def transverse_field_heisenberg(N, h, jx, jy, jz):\n",
    "    id = np.array([[1, 0], [0, 1]])\n",
    "    σx = np.array([[0, 1], [1, 0]])\n",
    "    σz = np.array([[1, 0], [0, -1]])\n",
    "    σy = np.array([[0, -1j], [1j, 0]])\n",
    "    first_term_ops = [id.copy() for _ in range(N)]\n",
    "    first_term_ops[0] = σx.copy()\n",
    "    first_term_ops[1] = σx.copy()\n",
    "    first_term_ops_n = [id.copy() for _ in range(N)]\n",
    "    first_term_ops_n[0] = σx.copy()\n",
    "    first_term_ops_n[1] = σx.copy()\n",
    "    second_term_ops = [id.copy() for _ in range(N)]\n",
    "    second_term_ops[0] = σy.copy()\n",
    "    second_term_ops[1] = σy.copy()\n",
    "    second_term_ops_n = [id.copy() for _ in range(N)]\n",
    "    second_term_ops_n[0] = σy.copy()\n",
    "    second_term_ops_n[1] = σy.copy()\n",
    "    third_term_ops = [id.copy() for _ in range(N)]\n",
    "    third_term_ops[0] = σz.copy()\n",
    "    third_term_ops[1] = σz.copy()\n",
    "    third_term_ops_n = [id.copy() for _ in range(N)]\n",
    "    third_term_ops_n[0] = σz.copy()\n",
    "    third_term_ops_n[1] = σz.copy()\n",
    "    fourth_term_ops = [id.copy() for _ in range(N)]\n",
    "    fourth_term_ops[0] = σx.copy()\n",
    "    fourth_term_ops_n = [id.copy() for _ in range(N)]\n",
    "    fourth_term_ops_n[0] = σx.copy()\n",
    "    H_dim = 2 ** N\n",
    "    H = np.zeros((H_dim, H_dim))\n",
    "    indexs = range(N)\n",
    "    for i in range(1, N):\n",
    "        first_term_tensor = np.kron(first_term_ops[N-2], first_term_ops[N-1])\n",
    "        for j in range(3, N+1):first_term_tensor = np.kron(first_term_ops[N-j], first_term_tensor)\n",
    "        H = H - jx*first_term_tensor\n",
    "        indexs = np.roll(indexs, 1)\n",
    "        first_term_ops = [first_term_ops_n[k] for k in indexs]\n",
    "    indexs = range(N)\n",
    "    for i in range(1, N):\n",
    "        second_term_tensor = np.kron(second_term_ops[N-2], second_term_ops[N-1])\n",
    "        for j in range(3, N+1):second_term_tensor = np.kron(second_term_ops[N-j], second_term_tensor)\n",
    "        H = H - jy*second_term_tensor\n",
    "        indexs = np.roll(indexs, 1)\n",
    "        second_term_ops = [second_term_ops_n[k] for k in indexs]\n",
    "    indexs = range(N)\n",
    "    for i in range(1, N):\n",
    "        third_term_tensor = np.kron(third_term_ops[N-2], third_term_ops[N-1])\n",
    "        for j in range(3, N+1):third_term_tensor = np.kron(third_term_ops[N-j], third_term_tensor)\n",
    "        H = H - jz*third_term_tensor\n",
    "        indexs = np.roll(indexs, 1)\n",
    "        third_term_ops = [third_term_ops_n[k] for k in indexs]\n",
    "    indexs = range(N)\n",
    "    for i in range(N):\n",
    "        fourth_term_tensor = np.kron(fourth_term_ops[N-2], fourth_term_ops[N-1])\n",
    "        for j in range(3, N+1):\n",
    "            fourth_term_tensor = np.kron(fourth_term_ops[N-j], fourth_term_tensor)\n",
    "        H = H - h * fourth_term_tensor\n",
    "        indexs = np.roll(indexs, 1)\n",
    "        fourth_term_ops = [fourth_term_ops_n[k] for k in indexs]\n",
    "    return H"
   ]
  },
  {
   "cell_type": "markdown",
   "metadata": {},
   "source": [
    "# CODIFICACIÓN EN BLOQUES DE OPERADORES NO UNITARIOS"
   ]
  },
  {
   "cell_type": "markdown",
   "metadata": {},
   "source": [
    "## 1.Operadores no unitarios"
   ]
  },
  {
   "cell_type": "markdown",
   "metadata": {},
   "source": [
    "Realizan transformaciones irreversibles sobre el vector estado, una transformación irreversible por ejemplo es la medición, ya que colapsa el vector de estado."
   ]
  },
  {
   "cell_type": "markdown",
   "metadata": {},
   "source": [
    "Podemos ver el proceso de medición como un proceso de proyección\n",
    "del vector de estado sobre una base computacional."
   ]
  },
  {
   "cell_type": "markdown",
   "metadata": {},
   "source": [
    "Es así que cualquier operador de proyección se considera un operador no unitario."
   ]
  },
  {
   "cell_type": "markdown",
   "metadata": {},
   "source": [
    "Consideremos el siguiente operador de proyección:"
   ]
  },
  {
   "cell_type": "markdown",
   "metadata": {},
   "source": [
    "$$ A  = |0\\rangle \\langle 0 |$$"
   ]
  },
  {
   "cell_type": "markdown",
   "metadata": {},
   "source": [
    "el operador $ A $ proyecta el vector de estado en la base $| 0 \\rangle$"
   ]
  },
  {
   "cell_type": "markdown",
   "metadata": {},
   "source": [
    "por tanto es un operador no unitario, es así que podríamos aplicarlo sobre un vector de estado si lo codificamos en bloques(ya que al ser no unitarios por si mismos no pueden ser compuertas cuánticas) así como hemos estado viendo en las sesiones anteriores."
   ]
  },
  {
   "cell_type": "code",
   "execution_count": 2,
   "metadata": {},
   "outputs": [
    {
     "name": "stdout",
     "output_type": "stream",
     "text": [
      "Operator([[1.+0.j, 0.+0.j],\n",
      "          [0.+0.j, 0.+0.j]],\n",
      "         input_dims=(2,), output_dims=(2,))\n"
     ]
    }
   ],
   "source": [
    "psi = Statevector.from_label(\"0\")\n",
    "psi.draw(\"Latex\")\n",
    "A = Operator(np.outer(np.conjugate(psi), psi))\n",
    "A"
   ]
  },
  {
   "cell_type": "code",
   "execution_count": 3,
   "metadata": {},
   "outputs": [
    {
     "data": {
      "text/latex": [
       "$$\n",
       "\n",
       "\\begin{bmatrix}\n",
       "1 & 0  \\\\\n",
       " 0 & 0  \\\\\n",
       " \\end{bmatrix}\n",
       "$$"
      ],
      "text/plain": [
       "<IPython.core.display.Latex object>"
      ]
     },
     "execution_count": 3,
     "metadata": {},
     "output_type": "execute_result"
    }
   ],
   "source": [
    "array_to_latex(A)"
   ]
  },
  {
   "cell_type": "code",
   "execution_count": 4,
   "metadata": {},
   "outputs": [
    {
     "data": {
      "text/plain": [
       "False"
      ]
     },
     "execution_count": 4,
     "metadata": {},
     "output_type": "execute_result"
    }
   ],
   "source": [
    "A.is_unitary()"
   ]
  },
  {
   "cell_type": "markdown",
   "metadata": {},
   "source": [
    "como era de esperarse, no es unitario, por tanto para usarlo dentro de un circuito lo codificamos en fable"
   ]
  },
  {
   "cell_type": "markdown",
   "metadata": {},
   "source": [
    "entonces fable nos mostrará 2 resultados el circuito que codifica en bloques el operador y alfa el factor de subnormalización que es simplemente la norma del vector debido a que este no estaba normalizado, así que internamente lo normalizó"
   ]
  },
  {
   "cell_type": "code",
   "execution_count": 5,
   "metadata": {},
   "outputs": [
    {
     "data": {
      "image/png": "[encoded data removed]",
      "text/plain": [
       "<Figure size 956.385x284.278 with 1 Axes>"
      ]
     },
     "execution_count": 5,
     "metadata": {},
     "output_type": "execute_result"
    }
   ],
   "source": [
    "A = np.asarray(A)\n",
    "circ, alpha = fable(A, 0)\n",
    "circ.draw(\"mpl\")"
   ]
  },
  {
   "cell_type": "markdown",
   "metadata": {},
   "source": [
    "este circuito codifica en bloques el operador $A$ así que, al ejecutar este circuito la operacion no unitaria de proyección será aplicada...., o eso quisieramos solo se aplicará si medimos las ancillas en el estado $| 0 \\rangle $ para eso debemos colapsar las ancillas, es decir medirlas"
   ]
  },
  {
   "cell_type": "markdown",
   "metadata": {},
   "source": [
    "en el circuito de arriba el qubit superior es nuestro vector de estado y los qubit 1 y 2 son las ancillas, entonces si aplicamos correctamente la operación no unitaria, debería resultar en el estado $|0\\rangle$ "
   ]
  },
  {
   "cell_type": "markdown",
   "metadata": {},
   "source": [
    "veamos"
   ]
  },
  {
   "cell_type": "code",
   "execution_count": 6,
   "metadata": {},
   "outputs": [
    {
     "data": {
      "image/png": "[encoded data removed]",
      "text/plain": [
       "<Figure size 956.385x451.5 with 1 Axes>"
      ]
     },
     "execution_count": 6,
     "metadata": {},
     "output_type": "execute_result"
    }
   ],
   "source": [
    "for i in range(2):\n",
    "    circ.add_register(ClassicalRegister(1))\n",
    "circ.draw(\"mpl\")"
   ]
  },
  {
   "cell_type": "markdown",
   "metadata": {},
   "source": [
    "agregamos 2 registros clásicos y medimos"
   ]
  },
  {
   "cell_type": "code",
   "execution_count": 7,
   "metadata": {},
   "outputs": [
    {
     "data": {
      "image/png": "[encoded data removed]",
      "text/plain": [
       "<Figure size 1207.22x451.5 with 1 Axes>"
      ]
     },
     "execution_count": 7,
     "metadata": {},
     "output_type": "execute_result"
    }
   ],
   "source": [
    "circ.barrier()\n",
    "circ.measure([1, 2], [0, 1])\n",
    "circ.draw(\"mpl\")"
   ]
  },
  {
   "cell_type": "markdown",
   "metadata": {},
   "source": [
    "q1 : (A =|0><0|) |0> = |0>;  |000> = (1,0,0,0,0,0,0,0)"
   ]
  },
  {
   "cell_type": "markdown",
   "metadata": {},
   "source": [
    "simulemos este circuito"
   ]
  },
  {
   "cell_type": "code",
   "execution_count": 8,
   "metadata": {},
   "outputs": [
    {
     "name": "stdout",
     "output_type": "stream",
     "text": [
      "[Statevector([ 1.00000000e+00+0.j,  1.57009246e-16+0.j,  0.00000000e+00+0.j,\n",
      "              0.00000000e+00+0.j, -0.00000000e+00+0.j,  0.00000000e+00+0.j,\n",
      "             -0.00000000e+00+0.j,  0.00000000e+00+0.j],\n",
      "            dims=(2, 2, 2)), Statevector([ 0.00000000e+00+0.j,  0.00000000e+00+0.j,  0.00000000e+00+0.j,\n",
      "              0.00000000e+00+0.j, -7.85046229e-17+0.j,  1.00000000e+00+0.j,\n",
      "             -0.00000000e+00+0.j,  0.00000000e+00+0.j],\n",
      "            dims=(2, 2, 2)), Statevector([ 0.00000000e+00+0.j,  0.00000000e+00+0.j,  1.00000000e+00+0.j,\n",
      "              1.57009246e-16+0.j, -0.00000000e+00+0.j,  0.00000000e+00+0.j,\n",
      "             -0.00000000e+00+0.j,  0.00000000e+00+0.j],\n",
      "            dims=(2, 2, 2)), Statevector([ 0.00000000e+00+0.j,  0.00000000e+00+0.j,  1.00000000e+00+0.j,\n",
      "              1.57009246e-16+0.j, -0.00000000e+00+0.j,  0.00000000e+00+0.j,\n",
      "             -0.00000000e+00+0.j,  0.00000000e+00+0.j],\n",
      "            dims=(2, 2, 2)), Statevector([ 0.00000000e+00+0.j,  0.00000000e+00+0.j,  0.00000000e+00+0.j,\n",
      "              0.00000000e+00+0.j, -7.85046229e-17+0.j,  1.00000000e+00+0.j,\n",
      "             -0.00000000e+00+0.j,  0.00000000e+00+0.j],\n",
      "            dims=(2, 2, 2)), Statevector([ 0.00000000e+00+0.j,  0.00000000e+00+0.j,  1.00000000e+00+0.j,\n",
      "              1.57009246e-16+0.j, -0.00000000e+00+0.j,  0.00000000e+00+0.j,\n",
      "             -0.00000000e+00+0.j,  0.00000000e+00+0.j],\n",
      "            dims=(2, 2, 2)), Statevector([ 0.00000000e+00+0.j,  0.00000000e+00+0.j,  0.00000000e+00+0.j,\n",
      "              0.00000000e+00+0.j, -7.85046229e-17+0.j,  1.00000000e+00+0.j,\n",
      "             -0.00000000e+00+0.j,  0.00000000e+00+0.j],\n",
      "            dims=(2, 2, 2)), Statevector([ 1.00000000e+00+0.j,  1.57009246e-16+0.j,  0.00000000e+00+0.j,\n",
      "              0.00000000e+00+0.j, -0.00000000e+00+0.j,  0.00000000e+00+0.j,\n",
      "             -0.00000000e+00+0.j,  0.00000000e+00+0.j],\n",
      "            dims=(2, 2, 2)), Statevector([ 1.00000000e+00+0.j,  1.57009246e-16+0.j,  0.00000000e+00+0.j,\n",
      "              0.00000000e+00+0.j, -0.00000000e+00+0.j,  0.00000000e+00+0.j,\n",
      "             -0.00000000e+00+0.j,  0.00000000e+00+0.j],\n",
      "            dims=(2, 2, 2)), Statevector([ 0.00000000e+00+0.j,  0.00000000e+00+0.j,  0.00000000e+00+0.j,\n",
      "              0.00000000e+00+0.j, -0.00000000e+00+0.j,  0.00000000e+00+0.j,\n",
      "             -7.85046229e-17+0.j,  1.00000000e+00+0.j],\n",
      "            dims=(2, 2, 2))]\n"
     ]
    }
   ],
   "source": [
    "backend = Aer.get_backend(\"statevector_simulator\")\n",
    "circ.save_statevector(label = 'test', pershot = True)\n",
    "backend = Aer.get_backend(\"statevector_simulator\")\n",
    "#result = execute(circ, backend = backend, shots = 10).result()\n",
    "new_circuit = transpile(circ, backend=backend)\n",
    "result = backend.run(new_circuit, shots=10).result()\n",
    "print(result.data(0)['test'])"
   ]
  },
  {
   "cell_type": "code",
   "execution_count": 9,
   "metadata": {},
   "outputs": [
    {
     "name": "stdout",
     "output_type": "stream",
     "text": [
      "Statevector([ 0.00000000e+00+0.j,  0.00000000e+00+0.j,  1.00000000e+00+0.j,\n",
      "              1.57009246e-16+0.j, -0.00000000e+00+0.j,  0.00000000e+00+0.j,\n",
      "             -0.00000000e+00+0.j,  0.00000000e+00+0.j],\n",
      "            dims=(2, 2, 2))\n"
     ]
    }
   ],
   "source": [
    "print(result.data(0)['test'][2])"
   ]
  },
  {
   "cell_type": "code",
   "execution_count": 10,
   "metadata": {},
   "outputs": [
    {
     "data": {
      "text/latex": [
       "$$ |111\\rangle$$"
      ],
      "text/plain": [
       "<IPython.core.display.Latex object>"
      ]
     },
     "execution_count": 10,
     "metadata": {},
     "output_type": "execute_result"
    }
   ],
   "source": [
    "result.data(0)['test'][9].draw(\"Latex\")"
   ]
  },
  {
   "cell_type": "code",
   "execution_count": 11,
   "metadata": {},
   "outputs": [
    {
     "data": {
      "text/latex": [
       "$$ |0000000\\rangle$$"
      ],
      "text/plain": [
       "<IPython.core.display.Latex object>"
      ]
     },
     "execution_count": 11,
     "metadata": {},
     "output_type": "execute_result"
    }
   ],
   "source": [
    "N = 6\n",
    "state1 = Statevector.from_label('0'*(N+1))\n",
    "state1.draw(\"Latex\")"
   ]
  },
  {
   "cell_type": "markdown",
   "metadata": {},
   "source": [
    "TAREA 1: A partir de aqui es su tarea simulen el circuito y observen lo que obtienen, si la aplicación del operador no unitario es exitosa, presentenlo con alguna herramienta de visualización, expliquen el comportamiento de las mediciones, y expliquen que significa \"save\" and \"per-shot\", y por que hay un indice 0 en la ultima línea."
   ]
  },
  {
   "cell_type": "markdown",
   "metadata": {},
   "source": [
    "TAREA 2: con lo observado en la tarea 1, codifiquen en bloque el operador Q de la referencia principal, y apliquenlo de manera exitosa al estado de Haar.\n",
    ", tienen hasta el día jueves 9:00 pm, GMT-5\n"
   ]
  },
  {
   "cell_type": "markdown",
   "metadata": {},
   "source": [
    "Apéndice:"
   ]
  },
  {
   "cell_type": "markdown",
   "metadata": {},
   "source": [
    "HAMILTONIANO DE HEISENBERG PARA UNA CADENA DE ESPINES "
   ]
  },
  {
   "cell_type": "code",
   "execution_count": 12,
   "metadata": {},
   "outputs": [
    {
     "name": "stdout",
     "output_type": "stream",
     "text": [
      "[[-10.  +0.j  -1.  +0.j  -1.  +0.j ...   0.  +0.j   0.  +0.j   0.  +0.j]\n",
      " [ -1.  +0.j  -6.  +0.j  -1.75+0.j ...   0.  +0.j   0.  +0.j   0.  +0.j]\n",
      " [ -1.  +0.j  -1.75+0.j  -2.  +0.j ...   0.  +0.j   0.  +0.j   0.  +0.j]\n",
      " ...\n",
      " [  0.  +0.j   0.  +0.j   0.  +0.j ...  -2.  +0.j  -1.75+0.j  -1.  +0.j]\n",
      " [  0.  +0.j   0.  +0.j   0.  +0.j ...  -1.75+0.j  -6.  +0.j  -1.  +0.j]\n",
      " [  0.  +0.j   0.  +0.j   0.  +0.j ...  -1.  +0.j  -1.  +0.j -10.  +0.j]]\n"
     ]
    }
   ],
   "source": [
    "# Example usage:\n",
    "N = 6 # NÚMERO DE ESPINES\n",
    "h = 1.0 #INTENSIDAD DEL CAMPO TRANSVERSAL\n",
    "jx = 0.5 # INTERACCIÓN DE INTERCAMBIO EN X\n",
    "jy = 1.25 # INTERACCIÓN DE INTERCAMBIO EN Y\n",
    "jz = 2.0 # INTERACCIÓN DE INTERCAMBIO EN Z\n",
    "H_heisenberg = transverse_field_heisenberg(N, h, jx, jy, jz)\n",
    "print(H_heisenberg)"
   ]
  },
  {
   "cell_type": "code",
   "execution_count": null,
   "metadata": {},
   "outputs": [],
   "source": []
  }
 ],
 "metadata": {
  "kernelspec": {
   "display_name": "Python 3 (ipykernel)",
   "language": "python",
   "name": "python3"
  },
  "language_info": {
   "codemirror_mode": {
    "name": "ipython",
    "version": 3
   },
   "file_extension": ".py",
   "mimetype": "text/x-python",
   "name": "python",
   "nbconvert_exporter": "python",
   "pygments_lexer": "ipython3",
   "version": "3.11.9"
  }
 },
 "nbformat": 4,
 "nbformat_minor": 4
}
